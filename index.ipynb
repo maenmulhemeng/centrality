{
 "cells": [
  {
   "cell_type": "markdown",
   "metadata": {},
   "source": [
    "# Centrality"
   ]
  },
  {
   "cell_type": "markdown",
   "metadata": {},
   "source": [
    "## Vertex Betweenness"
   ]
  },
  {
   "cell_type": "markdown",
   "metadata": {},
   "source": [
    "### Solution of Fig 10.9 "
   ]
  },
  {
   "cell_type": "code",
   "execution_count": 8,
   "metadata": {},
   "outputs": [
    {
     "name": "stdout",
     "output_type": "stream",
     "text": [
      "{'a': 0.0, 'b': 3.5, 'f': 0.5, 'e': 1.0, 'c': 4.0, 'd': 0.0}\n"
     ]
    },
    {
     "data": {
      "image/png": "[encoded data removed]",
      "text/plain": [
       "<Figure size 432x288 with 1 Axes>"
      ]
     },
     "metadata": {},
     "output_type": "display_data"
    }
   ],
   "source": [
    "import networkx as nx\n",
    "import matplotlib.pyplot as plt\n",
    "\n",
    "\n",
    "G = nx.Graph()\n",
    "elist = [('a', 'b',1.0), ('a', 'f',1.0), ('b', 'f',1.0), ('b', 'e',1.0), ('b', 'c',1.0), ('c', 'e',1.0), ('c', 'd',1.0), ('e', 'f',1.0)]\n",
    "G.add_weighted_edges_from(elist)\n",
    "plt.subplot(122)\n",
    "print(nx.betweenness_centrality(G,6,False))\n",
    "nx.draw(G) \n",
    "plt.show()\n"
   ]
  },
  {
   "cell_type": "markdown",
   "metadata": {},
   "source": [
    "# The solution "
   ]
  },
  {
   "cell_type": "raw",
   "metadata": {},
   "source": [
    "https://docs.google.com/document/d/1oFkXT1lJuco_sBO2r24IdCOLjkCcVB6c6KGPVJuXTmc/edit#\n"
   ]
  },
  {
   "source": [
    "https://docs.google.com/document/d/1oFkXT1lJuco_sBO2r24IdCOLjkCcVB6c6KGPVJuXTmc/edit#\n"
   ],
   "cell_type": "markdown",
   "metadata": {}
  },
  {
   "cell_type": "markdown",
   "metadata": {},
   "source": [
    "## Edge betweenness"
   ]
  },
  {
   "cell_type": "code",
   "execution_count": 2,
   "metadata": {},
   "outputs": [
    {
     "name": "stdout",
     "output_type": "stream",
     "text": [
      "{('a', 'b'): 2.5, ('a', 'i'): 5.5, ('b', 'c'): 5.0, ('b', 'i'): 6.5, ('i', 'e'): 9.0, ('i', 'h'): 5.0, ('c', 'd'): 6.0, ('d', 'e'): 9.0, ('e', 'f'): 8.0, ('e', 'g'): 5.5, ('e', 'h'): 3.5, ('g', 'h'): 2.5}\n"
     ]
    },
    {
     "data": {
      "image/png": "[encoded data removed]",
      "text/plain": [
       "<Figure size 432x288 with 1 Axes>"
      ]
     },
     "metadata": {},
     "output_type": "display_data"
    }
   ],
   "source": [
    "import networkx as nx\n",
    "import matplotlib.pyplot as plt\n",
    "\n",
    "\n",
    "G = nx.Graph()\n",
    "elist = [('a', 'b'), ('a', 'i'), ('b', 'c'), ('b', 'i'), ('c', 'd'), ('d', 'e'), ('e', 'f'), ('e', 'g'), ('e', 'h'), ('e', 'i'), ('g','h'), ('h','i')]\n",
    "# elist = [('a', 'b'), ('a', 'd'), ('b','e'),('b','c'),('c','f'),('e','f'),('d','e')]\n",
    "G.add_edges_from(elist)\n",
    "plt.subplot(122)\n",
    "print(nx.edge_betweenness_centrality(G,9,False))\n",
    "nx.draw(G) \n",
    "plt.show()"
   ]
  },
  {
   "cell_type": "markdown",
   "metadata": {},
   "source": [
    "## The solution"
   ]
  },
  {
   "cell_type": "raw",
   "metadata": {},
   "source": [
    "https://docs.google.com/document/d/1oFkXT1lJuco_sBO2r24IdCOLjkCcVB6c6KGPVJuXTmc/edit#\n"
   ]
  },
  {
   "source": [
    "https://docs.google.com/document/d/1oFkXT1lJuco_sBO2r24IdCOLjkCcVB6c6KGPVJuXTmc/edit#\n"
   ],
   "cell_type": "markdown",
   "metadata": {}
  }
 ],
 "metadata": {
  "kernelspec": {
   "display_name": "Python 3",
   "language": "python",
   "name": "python3"
  },
  "language_info": {
   "codemirror_mode": {
    "name": "ipython",
    "version": 3
   },
   "file_extension": ".py",
   "mimetype": "text/x-python",
   "name": "python",
   "nbconvert_exporter": "python",
   "pygments_lexer": "ipython3",
   "version": "3.7.8"
  }
 },
 "nbformat": 4,
 "nbformat_minor": 2
}